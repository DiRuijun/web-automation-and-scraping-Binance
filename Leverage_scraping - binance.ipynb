{
 "cells": [
  {
   "cell_type": "code",
   "execution_count": 8,
   "metadata": {},
   "outputs": [],
   "source": [
    "from selenium import webdriver\n",
    "from selenium.webdriver.common.by import By\n",
    "from selenium.webdriver.support.ui import WebDriverWait\n",
    "from selenium.webdriver.support import expected_conditions as EC\n",
    "from selenium.webdriver.common.keys import Keys\n",
    "import time\n",
    "import pandas as pd\n",
    "import requests"
   ]
  },
  {
   "cell_type": "code",
   "execution_count": 9,
   "metadata": {},
   "outputs": [],
   "source": [
    "# access trading currency pairs via MEXC api\n",
    "\n",
    "curl = f\"https://contract.mexc.com/api/v1/contract/detail/\"\n",
    "response = requests.get(curl)\n",
    "data = pd.DataFrame(response.json()['data'])\n",
    "result = pd.DataFrame()\n",
    "result['currency pair'] = data['symbol'].astype(str)\n",
    "result[['position_limit_for_min_leverage', 'max_leverage', 'position_limit_for_max_leverage']] = pd.DataFrame([[None, None, None]], index=result.index)"
   ]
  },
  {
   "cell_type": "code",
   "execution_count": 10,
   "metadata": {},
   "outputs": [],
   "source": [
    "# reject cookies\n",
    "\n",
    "def reject_cookies(driver, reject_xpath):\n",
    "    try:\n",
    "        reject_button = WebDriverWait(driver, 10).until(\n",
    "            EC.element_to_be_clickable((By.XPATH, reject_xpath))\n",
    "        )\n",
    "        reject_button.click()\n",
    "    except Exception as e:\n",
    "        print(f\"An error occurred while accepting cookies: {e}\")\n",
    "\n",
    "reject_xpath = \"/html/body/div[2]/div[2]/div/div[1]/div/div[2]/div/button[2]\""
   ]
  },
  {
   "cell_type": "code",
   "execution_count": 11,
   "metadata": {},
   "outputs": [],
   "source": [
    "# search currency pairs and scrape infomation\n",
    "\n",
    "def click_input(driver, click_xpath, input_xpath, test_xpath, target_xpath ,result):\n",
    "    # click\n",
    "    click_button = WebDriverWait(driver, 10).until(\n",
    "            EC.presence_of_element_located((By.XPATH, click_xpath))\n",
    "        )\n",
    "    click_button.click()\n",
    "    # input\n",
    "    input_box = WebDriverWait(driver, 10).until(\n",
    "        EC.presence_of_element_located((By.XPATH, input_xpath))\n",
    "    )\n",
    "    for currency in result[\"currency pair\"]:\n",
    "        currency_binance = currency.replace(\"_\",\"\")\n",
    "        input_box.clear()\n",
    "        input_box.send_keys(currency_binance)\n",
    "        input_box.send_keys(Keys.RETURN)\n",
    "        # check whether the result matches the input\n",
    "        test = driver.find_element(By.XPATH,test_xpath)\n",
    "        value = test.get_attribute(\"value\")\n",
    "        value = str(value)\n",
    "        if value == currency_binance:\n",
    "            # extract\n",
    "            position_limit_for_max_leverage = WebDriverWait(driver, 10).until(\n",
    "                EC.presence_of_element_located((By.XPATH, target_xpath[\"position_max_xpath\"]))\n",
    "            )\n",
    "            max_leverage = driver.find_element(By.XPATH, target_xpath[\"max_leverage_xpath\"])\n",
    "            position_limit_for_min_leverage = driver.find_element(By.XPATH, target_xpath[\"position_min_xpath\"])\n",
    "            # position_limit_for_max_leverage\n",
    "            position_limit_for_max_leverage = position_limit_for_max_leverage.text\n",
    "            max_parts = position_limit_for_max_leverage.split('-')\n",
    "            position_limit_for_max_leverage = max_parts[1].strip()\n",
    "            # max_leverage\n",
    "            max_leverage = max_leverage.text\n",
    "            # position_limit_for_min_leverage\n",
    "            position_limit_for_min_leverage = position_limit_for_min_leverage.text\n",
    "            min_parts = position_limit_for_min_leverage.split('-')\n",
    "            position_limit_for_min_leverage = min_parts[1].strip()\n",
    "            # load\n",
    "            result.loc[result[\"currency pair\"]==currency,\"position_limit_for_min_leverage\"]=position_limit_for_min_leverage\n",
    "            result.loc[result[\"currency pair\"]==currency,\"max_leverage\"]=max_leverage\n",
    "            result.loc[result[\"currency pair\"]==currency,\"position_limit_for_max_leverage\"]=position_limit_for_max_leverage\n",
    "        else: \n",
    "            result.loc[result[\"currency pair\"]==currency,\"position_limit_for_min_leverage\"]='NA'\n",
    "            result.loc[result[\"currency pair\"]==currency,\"max_leverage\"]='NA'\n",
    "            result.loc[result[\"currency pair\"]==currency,\"position_limit_for_max_leverage\"]='NA'\n",
    "        time.sleep(0.1)\n",
    "        click_button.click()\n",
    "\n",
    "click_xpath = \"/html/body/div[1]/div[3]/div[1]/div[2]/div[3]/div/div[2]/div[1]/div/div[1]\"\n",
    "input_xpath = \"//html/body/div[1]/div[3]/div[1]/div[2]/div[3]/div/div[2]/div[1]/div/div[2]/div/div/input\"\n",
    "test_xpath = \"/html/body/div[1]/div[3]/div[1]/div[2]/div[3]/div/div[2]/div[1]/div/div[1]/input\"\n",
    "target_xpath = {\n",
    "    \"position_max_xpath\" : \"/html/body/div[1]/div[3]/div[1]/div[2]/div[3]/div/div[3]/div/div/div/div/table/tbody/tr[1]/td[2]\",\n",
    "    \"max_leverage_xpath\" : \"/html/body/div[1]/div[3]/div[1]/div[2]/div[3]/div/div[3]/div/div/div/div/table/tbody/tr[1]/td[3]\",\n",
    "    \"position_min_xpath\" : \"/html/body/div[1]/div[3]/div[1]/div[2]/div[3]/div/div[3]/div/div/div/div/table/tbody/tr[last()]/td[2]\"\n",
    "}"
   ]
  },
  {
   "cell_type": "code",
   "execution_count": 12,
   "metadata": {},
   "outputs": [],
   "source": [
    "def main(url):\n",
    "    driver = webdriver.Chrome()   \n",
    "    try:\n",
    "        driver.get(url)\n",
    "        reject_cookies(driver, reject_xpath)\n",
    "        click_input(driver, click_xpath, input_xpath, test_xpath, target_xpath, result)\n",
    "    except Exception as e:\n",
    "        print(f\"An error occurred: {e}\")\n",
    "    finally:\n",
    "        driver.quit() "
   ]
  },
  {
   "cell_type": "code",
   "execution_count": 13,
   "metadata": {},
   "outputs": [],
   "source": [
    "url = \"https://www.binance.com/en/futures/trading-rules/perpetual/leverage-margin\"\n",
    "main(url)"
   ]
  },
  {
   "cell_type": "code",
   "execution_count": null,
   "metadata": {},
   "outputs": [],
   "source": [
    "result.to_csv(\"Leverage Information.csv\")"
   ]
  }
 ],
 "metadata": {
  "kernelspec": {
   "display_name": "Python 3",
   "language": "python",
   "name": "python3"
  },
  "language_info": {
   "codemirror_mode": {
    "name": "ipython",
    "version": 3
   },
   "file_extension": ".py",
   "mimetype": "text/x-python",
   "name": "python",
   "nbconvert_exporter": "python",
   "pygments_lexer": "ipython3",
   "version": "3.12.0"
  }
 },
 "nbformat": 4,
 "nbformat_minor": 2
}
