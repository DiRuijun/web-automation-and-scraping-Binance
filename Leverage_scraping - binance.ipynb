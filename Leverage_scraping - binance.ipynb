{
 "cells": [
  {
   "cell_type": "code",
   "execution_count": 7,
   "metadata": {},
   "outputs": [],
   "source": [
    "from selenium import webdriver\n",
    "from selenium.webdriver.common.by import By\n",
    "from selenium.webdriver.support.ui import WebDriverWait\n",
    "from selenium.webdriver.support import expected_conditions as EC\n",
    "from selenium.webdriver.common.keys import Keys\n",
    "import time\n",
    "import pandas as pd\n",
    "import openpyxl\n",
    "import requests"
   ]
  },
  {
   "cell_type": "code",
   "execution_count": 8,
   "metadata": {},
   "outputs": [],
   "source": [
    "curl = f\"https://contract.mexc.com/api/v1/contract/detail/\"\n",
    "response = requests.get(curl)\n",
    "data = pd.DataFrame(response.json()['data'])\n",
    "result = pd.DataFrame()\n",
    "result['币对'] = data['symbol'].astype(str)\n",
    "result[['position_limit_min', 'max_leverage', 'position_limit_max']] = pd.DataFrame([[None, None, None]], index=result.index)"
   ]
  },
  {
   "cell_type": "code",
   "execution_count": 9,
   "metadata": {},
   "outputs": [],
   "source": [
    "# reject_cookies\n",
    "def reject_cookies(driver, accept_xpath):\n",
    "    try:\n",
    "        accept_button = WebDriverWait(driver, 10).until(\n",
    "            EC.element_to_be_clickable((By.XPATH, accept_xpath))\n",
    "        )\n",
    "\n",
    "        accept_button.click()\n",
    "    except Exception as e:\n",
    "        print(f\"An error occurred while accepting cookies: {e}\")\n",
    "\n",
    "reject_xpath = \"/html/body/div[2]/div[2]/div/div[1]/div/div[2]/div/button[2]\""
   ]
  },
  {
   "cell_type": "code",
   "execution_count": 10,
   "metadata": {},
   "outputs": [],
   "source": [
    "# click and input currencies\n",
    "def click_input(driver, click_xpath, input_xpath, test_xpath, target_xpath ,result):\n",
    "    # click\n",
    "    click_button = WebDriverWait(driver, 10).until(\n",
    "            EC.presence_of_element_located((By.XPATH, click_xpath))\n",
    "        )\n",
    "    click_button.click()\n",
    "    # input\n",
    "    input_box = WebDriverWait(driver, 10).until(\n",
    "    EC.presence_of_element_located((By.XPATH, input_xpath))\n",
    "    )\n",
    "    for currency in result[\"币对\"]:\n",
    "        currency1 = currency.replace(\"_\",\"\")\n",
    "        input_box.clear()\n",
    "        input_box.send_keys(currency1)\n",
    "        input_box.send_keys(Keys.RETURN)\n",
    "        # check whether the result matches the input\n",
    "        test = driver.find_element(By.XPATH,test_xpath)\n",
    "        value = test.get_attribute(\"value\")\n",
    "        value = str(value)\n",
    "        if value == currency1:\n",
    "            # extract\n",
    "            position_limit_max = WebDriverWait(driver, 10).until(\n",
    "                EC.presence_of_element_located((By.XPATH, target_xpath[\"position_max_xpath\"]))\n",
    "            )\n",
    "            max_leverage = driver.find_element(By.XPATH, target_xpath[\"max_leverage_xpath\"])\n",
    "            position_limit_min = driver.find_element(By.XPATH, target_xpath[\"position_min_xpath\"])\n",
    "\n",
    "            position_limit_max = position_limit_max.text\n",
    "            max_parts = position_limit_max.split('-')\n",
    "            position_limit_max = max_parts[1].strip()\n",
    "\n",
    "            max_leverage = max_leverage.text\n",
    "            position_limit_min = position_limit_min.text\n",
    "            min_parts = position_limit_min.split('-')\n",
    "            position_limit_min = min_parts[1].strip()\n",
    "            # load\n",
    "            result.loc[result[\"币对\"]==currency,\"position_limit_min\"]=position_limit_min\n",
    "            result.loc[result[\"币对\"]==currency,\"max_leverage\"]=max_leverage\n",
    "            result.loc[result[\"币对\"]==currency,\"position_limit_max\"]=position_limit_max\n",
    "        else: \n",
    "            result.loc[result[\"币对\"]==currency,\"position_limit_min\"]='NA'\n",
    "            result.loc[result[\"币对\"]==currency,\"max_leverage\"]='NA'\n",
    "            result.loc[result[\"币对\"]==currency,\"position_limit_max\"]='NA'\n",
    "        time.sleep(1)\n",
    "        click_button.click()\n",
    "\n",
    "click_xpath = \"/html/body/div[1]/div[3]/div[1]/div[2]/div[3]/div/div[2]/div[1]/div/div[1]\"\n",
    "input_xpath = \"//html/body/div[1]/div[3]/div[1]/div[2]/div[3]/div/div[2]/div[1]/div/div[2]/div/div/input\"\n",
    "test_xpath = \"/html/body/div[1]/div[3]/div[1]/div[2]/div[3]/div/div[2]/div[1]/div/div[1]/input\"\n",
    "target_xpath = {\n",
    "    \"position_max_xpath\" : \"/html/body/div[1]/div[3]/div[1]/div[2]/div[3]/div/div[3]/div/div/div/div/table/tbody/tr[1]/td[2]\",\n",
    "    \"max_leverage_xpath\" : \"/html/body/div[1]/div[3]/div[1]/div[2]/div[3]/div/div[3]/div/div/div/div/table/tbody/tr[1]/td[3]\",\n",
    "    \"position_min_xpath\" : \"/html/body/div[1]/div[3]/div[1]/div[2]/div[3]/div/div[3]/div/div/div/div/table/tbody/tr[last()]/td[2]\"\n",
    "}"
   ]
  },
  {
   "cell_type": "code",
   "execution_count": 11,
   "metadata": {},
   "outputs": [],
   "source": [
    "def main(url):\n",
    "    driver = webdriver.Chrome()   \n",
    "    try:\n",
    "        driver.get(url)\n",
    "        reject_cookies(driver, reject_xpath)\n",
    "        click_input(driver, click_xpath, input_xpath, test_xpath, target_xpath, result)\n",
    "    except Exception as e:\n",
    "        print(f\"An error occurred: {e}\")\n",
    "    finally:\n",
    "        driver.quit() "
   ]
  },
  {
   "cell_type": "code",
   "execution_count": 12,
   "metadata": {},
   "outputs": [
    {
     "name": "stdout",
     "output_type": "stream",
     "text": [
      "An error occurred: Message: no such window: target window already closed\n",
      "from unknown error: web view not found\n",
      "  (Session info: chrome=120.0.6099.218)\n",
      "Stacktrace:\n",
      "\tGetHandleVerifier [0x00007FF68C6E2142+3514994]\n",
      "\t(No symbol) [0x00007FF68C300CE2]\n",
      "\t(No symbol) [0x00007FF68C1A76AA]\n",
      "\t(No symbol) [0x00007FF68C180AFD]\n",
      "\t(No symbol) [0x00007FF68C21CB1B]\n",
      "\t(No symbol) [0x00007FF68C23218F]\n",
      "\t(No symbol) [0x00007FF68C215D93]\n",
      "\t(No symbol) [0x00007FF68C1E4BDC]\n",
      "\t(No symbol) [0x00007FF68C1E5C64]\n",
      "\tGetHandleVerifier [0x00007FF68C70E16B+3695259]\n",
      "\tGetHandleVerifier [0x00007FF68C766737+4057191]\n",
      "\tGetHandleVerifier [0x00007FF68C75E4E3+4023827]\n",
      "\tGetHandleVerifier [0x00007FF68C4304F9+689705]\n",
      "\t(No symbol) [0x00007FF68C30C048]\n",
      "\t(No symbol) [0x00007FF68C308044]\n",
      "\t(No symbol) [0x00007FF68C3081C9]\n",
      "\t(No symbol) [0x00007FF68C2F88C4]\n",
      "\t(No symbol) [0x00007FF9892026AD]\n",
      "\tRtlUserThreadStart [0x00007FF989DCA9F8+40]\n",
      "\n"
     ]
    }
   ],
   "source": [
    "url = \"https://www.binance.com/en/futures/trading-rules/perpetual/leverage-margin\"\n",
    "main(url)"
   ]
  }
 ],
 "metadata": {
  "kernelspec": {
   "display_name": "Python 3",
   "language": "python",
   "name": "python3"
  },
  "language_info": {
   "codemirror_mode": {
    "name": "ipython",
    "version": 3
   },
   "file_extension": ".py",
   "mimetype": "text/x-python",
   "name": "python",
   "nbconvert_exporter": "python",
   "pygments_lexer": "ipython3",
   "version": "3.12.0"
  }
 },
 "nbformat": 4,
 "nbformat_minor": 2
}
